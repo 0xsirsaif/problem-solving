{
 "cells": [
  {
   "cell_type": "code",
   "execution_count": 4,
   "metadata": {},
   "outputs": [],
   "source": [
    "# Algorithm 1\n",
    "class ListNode:\n",
    "    def __init__(self, val=0, next=None):\n",
    "        self.val = val\n",
    "        self.next = next\n",
    "\n",
    "\n",
    "class Solution:\n",
    "    def mergeTwoLists(self, l1, l2):\n",
    "        dummy = curr = ListNode(0)\n",
    "        # this while loop will be executed if and only if both of l1 and l2 are not empty \n",
    "        while l1 and l2:\n",
    "            # every loop make a comparision between the two nodes which have pointers above them :\n",
    "            # imagine you have a pointer (l1 and l2) above the list cell\n",
    "            # we move the pointer to the next node if we connect the curr to its node\n",
    "            if l1.val < l2.val:\n",
    "                curr.next = l1 # connect the node\n",
    "                l1 = l1.next # move pointer\n",
    "            else:\n",
    "                curr.next = l2 # connect the node\n",
    "                l2 = l2.next # move pointer\n",
    "            curr = curr.next\n",
    "        # this line help us in 3 different cases:\n",
    "        # if both are empty => Result is None\n",
    "        # if one of them is empty => Result is the another one\n",
    "        # if one of the two pointers (l1 and l2) reach the tail of the list => \n",
    "        #     we connect the remaining nodes to the curr\n",
    "        curr.next = l1 or l2\n",
    "        return dummy.next\n"
   ]
  },
  {
   "cell_type": "code",
   "execution_count": null,
   "metadata": {},
   "outputs": [],
   "source": [
    "# General Notes :\n",
    "\"\"\"\n",
    "- Dummy Node Alawys prove its effieciency in solving linked lists problems.\n",
    "\"\"\""
   ]
  }
 ],
 "metadata": {
  "kernelspec": {
   "display_name": "Python 3",
   "language": "python",
   "name": "python3"
  },
  "language_info": {
   "codemirror_mode": {
    "name": "ipython",
    "version": 3
   },
   "file_extension": ".py",
   "mimetype": "text/x-python",
   "name": "python",
   "nbconvert_exporter": "python",
   "pygments_lexer": "ipython3",
   "version": "3.6.9"
  }
 },
 "nbformat": 4,
 "nbformat_minor": 4
}
